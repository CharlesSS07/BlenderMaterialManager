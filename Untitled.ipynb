{
 "cells": [
  {
   "cell_type": "code",
   "execution_count": null,
   "metadata": {},
   "outputs": [],
   "source": [
    "from server import BlenderMaterialManager\n",
    "from webparser import HDRIHavenParser\n",
    "bmm = BlenderMaterialManager(HDRIHavenParser(), '4k', 'png')"
   ]
  },
  {
   "cell_type": "code",
   "execution_count": null,
   "metadata": {},
   "outputs": [],
   "source": [
    "import subprocess\n",
    "p = subprocess.Popen(['curl', 'https://texturehaven.com/files/textures/zip/4k/large_floor_tiles_02/large_floor_tiles_02_4k_png.zip', '-o', '/tmp/meme.jpeg'])\n",
    "p.wait()"
   ]
  },
  {
   "cell_type": "code",
   "execution_count": 1,
   "metadata": {
    "scrolled": true
   },
   "outputs": [
    {
     "data": {
      "text/plain": [
       "['',\n",
       " '/usr/local/anaconda3/lib/python36.zip',\n",
       " '/usr/local/anaconda3/lib/python3.6',\n",
       " '/usr/local/anaconda3/lib/python3.6/lib-dynload',\n",
       " '/home/shelby/.local/lib/python3.6/site-packages',\n",
       " '/home/shelby/.local/lib/python3.6/site-packages/python_socketio-4.0.3.dev0-py3.6.egg',\n",
       " '/home/shelby/.local/lib/python3.6/site-packages/python_engineio-3.5.2-py3.6.egg',\n",
       " '/home/shelby/.local/lib/python3.6/site-packages/eventlet-0.25.0-py3.6.egg',\n",
       " '/home/shelby/.local/lib/python3.6/site-packages/monotonic-1.5-py3.6.egg',\n",
       " '/home/shelby/.local/lib/python3.6/site-packages/dnspython-1.16.0-py3.6.egg',\n",
       " '/usr/local/anaconda3/lib/python3.6/site-packages',\n",
       " '/usr/local/anaconda3/lib/python3.6/site-packages/IPython/extensions',\n",
       " '/home/shelby/.ipython']"
      ]
     },
     "execution_count": 1,
     "metadata": {},
     "output_type": "execute_result"
    }
   ],
   "source": [
    "import sys\n",
    "sys.path"
   ]
  }
 ],
 "metadata": {
  "kernelspec": {
   "display_name": "Python 3",
   "language": "python",
   "name": "python3"
  },
  "language_info": {
   "codemirror_mode": {
    "name": "ipython",
    "version": 3
   },
   "file_extension": ".py",
   "mimetype": "text/x-python",
   "name": "python",
   "nbconvert_exporter": "python",
   "pygments_lexer": "ipython3",
   "version": "3.6.3"
  }
 },
 "nbformat": 4,
 "nbformat_minor": 2
}
