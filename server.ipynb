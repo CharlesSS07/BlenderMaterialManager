{
 "cells": [
  {
   "cell_type": "code",
   "execution_count": 1,
   "metadata": {
    "collapsed": true
   },
   "outputs": [],
   "source": [
    "import socketio\n",
    "import eventlet\n",
    "import webbrowser\n",
    "import requests\n",
    "import subprocess"
   ]
  },
  {
   "cell_type": "code",
   "execution_count": 2,
   "metadata": {},
   "outputs": [
    {
     "data": {
      "text/plain": [
       "CompletedProcess(args=['mkdir', '/tmp/BlenderMaterialManager'], returncode=1)"
      ]
     },
     "execution_count": 2,
     "metadata": {},
     "output_type": "execute_result"
    }
   ],
   "source": [
    "subprocess.run(['mkdir', '/tmp/BlenderMaterialManager'])"
   ]
  },
  {
   "cell_type": "code",
   "execution_count": 3,
   "metadata": {
    "collapsed": true
   },
   "outputs": [],
   "source": [
    "sio = socketio.Server()"
   ]
  },
  {
   "cell_type": "code",
   "execution_count": 4,
   "metadata": {
    "collapsed": true
   },
   "outputs": [],
   "source": [
    "app = socketio.WSGIApp(sio, static_files={\n",
    "    '/': {'content_type': 'text/html', 'filename': 'index.html'}\n",
    "})"
   ]
  },
  {
   "cell_type": "code",
   "execution_count": 5,
   "metadata": {},
   "outputs": [],
   "source": [
    "@sio.on('connect')\n",
    "def connect(sid, data):\n",
    "    print(\"I'm connected!\")\n",
    "\n",
    "@sio.on('disconnect')\n",
    "def disconnect(sid):\n",
    "    print(\"I'm disconnected!\")\n",
    "\n",
    "#@sio.on('submitresource')\n",
    "def download_and_load(sid, data):\n",
    "    print('Image Selected!')\n",
    "    url = 'https://texturehaven.com/files/textures/zip/4k/%s/%s_4k_png.zip'%(data, data)\n",
    "    o = '/tmp/BlenderMaterialManager/%s_4k_png.zip'%(data)\n",
    "    print(url)\n",
    "    subprocess.run(['curl', url, '-o', o])\n",
    "    print(data)\n",
    "\n",
    "sio.on('submitresource', download_and_load)\n"
   ]
  },
  {
   "cell_type": "code",
   "execution_count": 6,
   "metadata": {
    "collapsed": true
   },
   "outputs": [],
   "source": [
    "w = requests.get('https://texturehaven.com/textures/').text"
   ]
  },
  {
   "cell_type": "code",
   "execution_count": 7,
   "metadata": {
    "collapsed": true
   },
   "outputs": [],
   "source": [
    "wl = w\n",
    "wl = wl.replace('\\\\', '')\n",
    "wl = wl.replace('\"', \"'\")\n",
    "wl = wl.replace(\"'./\", \"'https://texturehaven.com/\")\n",
    "wl = wl.replace(\"'/\", \"'https://texturehaven.com/\")"
   ]
  },
  {
   "cell_type": "code",
   "execution_count": 8,
   "metadata": {},
   "outputs": [],
   "source": [
    "with open('websites/TEXTUREHAVEN/script.js', 'r') as f:\n",
    "    s = f.read()"
   ]
  },
  {
   "cell_type": "code",
   "execution_count": 9,
   "metadata": {
    "collapsed": true
   },
   "outputs": [],
   "source": [
    "wls = wl.replace('</head>', '<script src=\"file:///home/shelby/blender_2.8/addons/BlenderMaterialManager/BlenderMaterialManager/socket.io-client/dist/socket.io.js\"></script></head>')\n",
    "wls = wls.replace('</body>', '<script src=\"script.js\"></script></body>')"
   ]
  },
  {
   "cell_type": "code",
   "execution_count": 10,
   "metadata": {},
   "outputs": [],
   "source": [
    "with open('websites/TEXTUREHAVEN/index.html', 'w') as f:\n",
    "    f.write(wls)"
   ]
  },
  {
   "cell_type": "code",
   "execution_count": 11,
   "metadata": {},
   "outputs": [],
   "source": [
    "#webbrowser.open('file:///home/shelby/blender_2.8/addons/BlenderMaterialManager/BlenderMaterialManager/index.html', new=1, autoraise=True)"
   ]
  },
  {
   "cell_type": "code",
   "execution_count": 12,
   "metadata": {},
   "outputs": [
    {
     "name": "stderr",
     "output_type": "stream",
     "text": [
      "(28005) wsgi starting up on http://127.0.0.1:6006\n",
      "(28005) accepted ('127.0.0.1', 48888)\n",
      "127.0.0.1 - - [10/Jun/2019 21:29:59] \"GET /socket.io/?EIO=3&transport=polling&t=Mj4bTdh HTTP/1.1\" 200 384 0.000726\n",
      "(28005) accepted ('127.0.0.1', 48890)\n",
      "127.0.0.1 - - [10/Jun/2019 21:29:59] \"GET /socket.io/?EIO=3&transport=polling&t=Mj4bTdq&sid=eaaf7300f1ce4a499f31c1d3c71eb3a1 HTTP/1.1\" 200 218 0.017081\n"
     ]
    },
    {
     "name": "stdout",
     "output_type": "stream",
     "text": [
      "I'm connected!\n",
      "Image Selected!\n",
      "https://texturehaven.com/files/textures/zip/4k/red_bricks_02/red_bricks_02_4k_png.zip\n",
      "red_bricks_02\n",
      "I'm disconnected!\n"
     ]
    },
    {
     "name": "stderr",
     "output_type": "stream",
     "text": [
      "127.0.0.1 - - [10/Jun/2019 21:32:16] \"GET /socket.io/?EIO=3&transport=websocket&sid=eaaf7300f1ce4a499f31c1d3c71eb3a1 HTTP/1.1\" 200 0 136.923899\n",
      "wsgi exiting\n",
      "(28005) wsgi exited, is_accepting=True\n"
     ]
    }
   ],
   "source": [
    "eventlet.wsgi.server(eventlet.listen(('127.0.0.1', 6006)), app)"
   ]
  }
 ],
 "metadata": {
  "kernelspec": {
   "display_name": "Python 3",
   "language": "python",
   "name": "python3"
  },
  "language_info": {
   "codemirror_mode": {
    "name": "ipython",
    "version": 3
   },
   "file_extension": ".py",
   "mimetype": "text/x-python",
   "name": "python",
   "nbconvert_exporter": "python",
   "pygments_lexer": "ipython3",
   "version": "3.6.3"
  }
 },
 "nbformat": 4,
 "nbformat_minor": 2
}
